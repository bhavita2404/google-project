{
 "cells": [
  {
   "cell_type": "code",
   "execution_count": 6,
   "metadata": {},
   "outputs": [],
   "source": [
    "import gmplot\n",
    "import pandas as pd\n",
    "\n",
    "file = open(\"C:\\\\Users\\\\S\\\\Desktop\\\\lat_long.txt\", \"r\")   #reading the latitudes and longitudes of given geographical locations\n",
    "\n",
    "lat,lon = [],[]\n",
    "next(file)\n",
    "for line in file:\n",
    "    lat.append(float(line.split('|')[2]))\n",
    "    lon.append(float(line.split('|')[3][:-1]))\n"
   ]
  },
  {
   "cell_type": "code",
   "execution_count": 7,
   "metadata": {},
   "outputs": [
    {
     "name": "stdout",
     "output_type": "stream",
     "text": [
      "[18.52939, 18.970753, 19.01705, 18.9914, 19.186157, 19.01888, 19.23544, 19.06319, 19.01907, 19.02399, 19.38275, 19.22891, 18.74931, 19.01599, 18.911543, 19.454952, 19.0332, 19.9913, 19.21042, 19.16679, 19.18884, 19.296395, 19.6483, 19.7983, 19.43921, 19.218194, 19.06513, 18.88457, 19.11874, 19.6981, 18.93449, 18.532, 18.64, 19.02696, 18.735, 19.04681, 19.079094, 18.5626, 19.0856, 18.97664, 19.5767, 19.17173, 18.6229, 19.06266, 19.883, 18.6801, 19.14228, 19.2182, 19.11194, 19.19526, 19.21089, 19.19014, 19.6246, 19.02733, 19.15452, 18.767, 19.00918, 19.22616, 18.98692, 18.994, 18.95195, 18.96182, 19.5179, 18.6483, 18.5803, 18.7427, 19.356509, 19.406511, 19.267548, 19.24426, 19.22836, 19.50446, 19.58017, 18.970032, 19.09434, 19.62835, 19.55008, 19.31093, 18.7212, 18.6077, 18.7006, 18.7619, 18.74421, 19.7544, 19.05474, 19.1586, 18.97084, 19.051546, 18.98649, 18.95139, 19.25007, 18.9663, 19.19585, 19.16461, 19.11617, 19.037815, 18.9635, 19.05575, 19.05585, 19.13647, 19.02614, 19.0696, 19.20451, 19.00741, 19.10333, 18.74562, 19.01662, 19.18723, 18.94566, 19.27972, 19.04067, 19.02816, 18.982001, 18.97022, 19.35147, 19.4174, 18.99528, 19.00447, 19.13678, 18.97628, 19.06382, 19.04653, 18.7009, 19.0659, 19.08156, 18.99762, 19.0218, 19.06554, 19.07622, 19.10004, 19.19133, 19.187982, 19.16379, 18.833683, 19.03191, 18.788584, 18.84541, 19.23293, 18.809144, 19.21243, 19.15168, 19.07464, 19.18995, 18.940874, 19.007445, 19.04791, 19.12815, 19.17582, 19.21089, 19.434821, 18.97546, 18.96007, 19.01076, 18.98941, 19.18103, 19.197129] [73.87351, 72.819411, 72.84303, 73.12085, 72.976186, 72.84299, 73.1311, 72.99885, 73.03917, 72.86091, 72.83189, 72.85673, 73.40761, 72.85889, 73.320568, 72.812027, 73.018, 72.7436, 73.18356, 73.23874, 73.04291, 73.203268, 73.47306, 72.7616, 73.30781, 73.086785, 72.8795, 73.32079, 72.84692, 72.77209, 72.82729, 73.8516, 73.7915, 73.31852, 73.6722, 72.93217, 72.897263, 73.8411, 72.90812, 72.83287, 72.8219, 72.95663, 73.8021, 72.90125, 72.7633, 73.7343, 72.93779, 73.16286, 72.92847, 72.99669, 73.07729, 73.02314, 72.7911, 72.85026, 72.94683, 73.55217, 72.83758, 73.0981, 72.83292, 72.833, 72.83834, 72.83949, 72.8502, 73.7646, 73.8332, 73.6362, 73.218941, 73.267471, 73.172201, 73.15828, 73.1491, 73.32816, 73.39407, 73.331377, 73.30067, 73.42296, 73.35176, 72.8526, 73.6962, 73.8207, 73.7085, 73.59401, 73.48081, 72.7604, 72.84041, 72.99938, 72.81886, 72.868994, 72.84326, 72.81891, 72.85917, 72.84422, 73.05737, 72.84961, 73.00709, 72.864071, 72.8161, 72.91456, 73.01844, 72.84896, 73.05956, 72.84023, 72.85199, 73.09524, 73.0113, 73.4233, 73.08056, 72.84898, 72.82378, 72.85612, 72.84672, 72.84699, 72.824187, 72.83343, 72.84621, 72.819, 72.83015, 72.83486, 73.00275, 72.84449, 73.31776, 72.86332, 73.7061, 73.00964, 72.84164, 72.85399, 73.019, 72.89102, 73.01776, 72.84406, 72.999997, 72.996397, 72.95099, 73.320228, 72.85762, 73.345904, 73.318796, 73.12379, 73.335261, 73.079353, 72.85023, 72.89122, 73.00885, 72.836065, 72.835898, 72.92918, 72.92825, 72.99471, 72.85321, 72.815792, 73.02461, 73.01419, 73.02477, 73.03397, 73.22102, 72.99895]\n"
     ]
    }
   ],
   "source": [
    "print(lat,lon)"
   ]
  },
  {
   "cell_type": "code",
   "execution_count": 8,
   "metadata": {},
   "outputs": [],
   "source": [
    "gmap1 = gmplot.GoogleMapPlotter(18.77778,73.31833, 10 ) \n",
    "gmap1.scatter(lat,lon,'white',size = 100, marker = False)  ## scatter plot\n",
    "gmap1.draw( \"C:\\\\Users\\\\S\\\\Desktop\\\\map1.html\")\n"
   ]
  },
  {
   "cell_type": "code",
   "execution_count": 42,
   "metadata": {},
   "outputs": [],
   "source": [
    "left_dataframe = pd.read_csv('C:\\\\Users\\\\S\\\\Downloads\\\\mumbai_train_route.txt', sep='|')\n",
    "right_dataframe = pd.read_csv('C:\\\\Users\\\\S\\\\Desktop\\\\lat_long.txt', sep='|')\n",
    "##  converting text files to dataframes\n",
    "\n",
    "right_dataframe = right_dataframe.rename(columns = {\"station_code\": \"src_station\"})\n"
   ]
  },
  {
   "cell_type": "code",
   "execution_count": 44,
   "metadata": {},
   "outputs": [
    {
     "name": "stdout",
     "output_type": "stream",
     "text": [
      "[19.9913, 19.883, 19.7983, 19.7544, 19.6981, 19.6246, 19.5767, 19.5179, 19.454952, 19.434821, 19.4174, 19.38275, 19.351470000000003, 19.31093, 19.27972, 19.25007, 19.22891, 19.21089, 19.20451, 19.18723, 19.16461, 19.15168, 19.136470000000003, 19.11874, 19.10004, 19.08156, 19.0696, 19.05474, 19.040670000000002, 19.02816, 19.01888, 19.007445, 18.995279999999998, 18.982001, 18.97084, 18.9635, 18.95139, 18.94566, 18.93449]\n"
     ]
    }
   ],
   "source": [
    "a =pd.merge(left_dataframe, right_dataframe, on=\"src_station\", how=\"left\")  # for identifying latitude and longitude of the corresponding stations in route, used left outer join to merge the two text files \n",
    "\n",
    "a.to_csv('C:\\\\Users\\\\S\\\\Desktop\\\\train_route_coord.txt', header=True, index=False, sep='\\t', mode='w')\n",
    "\n",
    "file1 = open('C:\\\\Users\\\\S\\\\Desktop\\\\train_route_coord.txt', \"r\")\n",
    "route_lat,route_lon = [],[]\n",
    "next(file1)\n",
    "for line in file1:  \n",
    "    if line.split('\\t')[0] ==\"93018\":\n",
    "        try:\n",
    "            route_lat.append(float(line.split('\\t')[10]))\n",
    "            route_lon.append(float(line.split('\\t')[11][:-1]))\n",
    "        except:\n",
    "            if line.split('\\t')[10] == '  ' or line.split('\\t')[11][:-1] == '  ' :\n",
    "                  continue #only for spaces\n",
    "            \n",
    "print(route_lat)                \n",
    "# finding the lat and long for the stations of a specific route and plotting(along the route) them on map\n",
    "gmap1.plot(route_lat, route_lon, 'blue', edge_width = 2.5) \n",
    "gmap1.draw( \"C:\\\\Users\\\\S\\\\Desktop\\\\map11.html\" )\n"
   ]
  },
  {
   "cell_type": "code",
   "execution_count": 47,
   "metadata": {},
   "outputs": [],
   "source": [
    "file2 = open('C:\\\\Users\\\\S\\\\Desktop\\\\train_route_coord.txt', \"r\")\n",
    "route_lat1,route_lon1,route_lat2,route_lon2,route_lat3,route_lon3 = [],[],[],[],[],[]\n",
    "next(file2)\n",
    "for line in file2:\n",
    "    if line.split('\\t')[0] ==\"93018\":\n",
    "        try:\n",
    "            route_lat1.append(float(line.split('\\t')[10]))\n",
    "            route_lon1.append(float(line.split('\\t')[11][:-1]))\n",
    "        except:\n",
    "            if line.split('\\t')[10] == ' ' or line.split('\\t')[11][:-1] == ' ' :\n",
    "                  continue    #only for spaces\n",
    "    if line.split('\\t')[0] ==\"91392\":\n",
    "        try:\n",
    "            route_lat2.append(float(line.split('\\t')[10]))\n",
    "            route_lon2.append(float(line.split('\\t')[11][:-1]))\n",
    "        except:\n",
    "            if line.split('\\t')[10] == ' ' or line.split('\\t')[11][:-1] == ' ' :\n",
    "                  continue    #only for spaces\n",
    "    if line.split('\\t')[0] ==\"98037\":\n",
    "        try:\n",
    "            route_lat3.append(float(line.split('\\t')[10]))\n",
    "            route_lon3.append(float(line.split('\\t')[11][:-1]))\n",
    "        except:\n",
    "            if line.split('\\t')[10] == ' ' or line.split('\\t')[11][:-1] == ' ' :\n",
    "                  continue   #only for spaces                 \n",
    "# plotting three routes\n",
    "gmap1.plot(route_lat1, route_lon1, 'blue', edge_width = 3) \n",
    "gmap1.plot(route_lat2, route_lon2, 'green', edge_width = 3)\n",
    "gmap1.plot(route_lat3, route_lon3, 'green', edge_width = 3)\n",
    "gmap1.draw( \"C:\\\\Users\\\\S\\\\Desktop\\\\map12.html\" )\n"
   ]
  },
  {
   "cell_type": "code",
   "execution_count": 53,
   "metadata": {},
   "outputs": [],
   "source": [
    "## separated all the required train routes from the text file and copied into another file to reduce repetitive iteration of large file with lots of un-required things\n",
    "\n",
    "file1 = open('C:\\\\Users\\\\S\\\\Desktop\\\\train_route_coord.txt', \"r\")\n",
    "file2 = open('C:\\\\Users\\\\S\\\\Desktop\\\\local_train_route_coord.txt',\"w\")\n",
    "count = 0\n",
    "for line in file1:\n",
    "    if count == 0:\n",
    "        count+=1\n",
    "        line1 = line[:-1] + '\\t' + \"color\" + '\\t' + \"route_no\" + '\\n'  # copied and modified the headings\n",
    "        file2.write(line1)\n",
    "        continue;\n",
    "    x = line.split('\\t')[0] \n",
    "    if x ==\"93018\":\n",
    "        line1 = line[:-1] + '\\t' + \"blue\" + '\\t' + \"1\" + '\\n'\n",
    "        file2.write(line1)\n",
    "    elif x ==\"91392\":\n",
    "        line1 = line[:-1] + '\\t' + \"green\" + '\\t' + \"2\" + '\\n'\n",
    "        file2.write(line1)\n",
    "    elif x ==\"98037\":\n",
    "        line1 = line[:-1] + '\\t' + \"green\" + '\\t' + \"3\" + '\\n'\n",
    "        file2.write(line1)\n",
    "    elif x ==\"96401\":\n",
    "        line1 = line[:-1] + '\\t' + \"red\" + '\\t' + \"4\" + '\\n'\n",
    "        file2.write(line1)\n",
    "    elif x ==\"95007\":\n",
    "        line1 = line[:-1] + '\\t' + \"red\" + '\\t' + \"5\" + '\\n'\n",
    "        file2.write(line1)\n",
    "    elif x ==\"99425\":\n",
    "        line1 = line[:-1] + '\\t' + \"violet\" + '\\t' + \"6\" + '\\n'\n",
    "        file2.write(line1)\n",
    "    elif x ==\"99037\":\n",
    "        line1 = line[:-1] + '\\t' + \"violet\" + '\\t' + \"7\" + '\\n'\n",
    "        file2.write(line1)    \n",
    "  \n"
   ]
  },
  {
   "cell_type": "code",
   "execution_count": 54,
   "metadata": {},
   "outputs": [
    {
     "name": "stdout",
     "output_type": "stream",
     "text": [
      "green\n",
      "blue\n",
      "red\n",
      "red\n",
      "green\n",
      "violet\n"
     ]
    }
   ],
   "source": [
    "## plotting all the routes\n",
    "      \n",
    "file3 = open('C:\\\\Users\\\\S\\\\Desktop\\\\local_train_route_coord.txt',\"r\")\n",
    "route_lat,route_lon = [],[]\n",
    "count = 0\n",
    "route = 1\n",
    "color = \"\"\n",
    "for line in file3:\n",
    "    if count == 0:\n",
    "        count+=1\n",
    "        continue;  \n",
    "    x = int(line.split('\\t')[13])\n",
    "    if count == 1:\n",
    "        route = int(x)\n",
    "        color = line.split('\\t')[12]\n",
    "        try:\n",
    "            route_lat.append(float(line.split('\\t')[10]))\n",
    "            route_lon.append(float(line.split('\\t')[11][:-1]))\n",
    "        except:\n",
    "            continue #only for spaces\n",
    "    else:\n",
    "        if x == route:\n",
    "            try:\n",
    "                route_lat.append(float(line.split('\\t')[10]))\n",
    "                route_lon.append(float(line.split('\\t')[11][:-1]))\n",
    "            except:\n",
    "                continue #only for spaces\n",
    "        else:\n",
    "            route = int(x)\n",
    "            pcolor = color \n",
    "            color = line.split('\\t')[12]\n",
    "            #print(pcolor)\n",
    "            gmap1.plot(route_lat, route_lon, pcolor, edge_width = 2.5)\n",
    "            route_lat,route_lon = [],[]\n",
    "    count+=1       \n",
    "gmap1.plot(route_lat, route_lon, color, edge_width = 2.5) \n",
    "gmap1.draw( \"C:\\\\Users\\\\S\\\\Desktop\\\\map14.html\" )\n"
   ]
  },
  {
   "cell_type": "code",
   "execution_count": null,
   "metadata": {},
   "outputs": [],
   "source": []
  }
 ],
 "metadata": {
  "kernelspec": {
   "display_name": "Python 3",
   "language": "python",
   "name": "python3"
  },
  "language_info": {
   "codemirror_mode": {
    "name": "ipython",
    "version": 3
   },
   "file_extension": ".py",
   "mimetype": "text/x-python",
   "name": "python",
   "nbconvert_exporter": "python",
   "pygments_lexer": "ipython3",
   "version": "3.7.6"
  }
 },
 "nbformat": 4,
 "nbformat_minor": 4
}
