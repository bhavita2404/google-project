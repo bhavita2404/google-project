{
 "cells": [
  {
   "cell_type": "code",
   "execution_count": 8,
   "metadata": {},
   "outputs": [
    {
     "data": {
      "image/png": "[encoded data removed]",
      "text/plain": [
       "<Figure size 432x288 with 1 Axes>"
      ]
     },
     "metadata": {
      "needs_background": "light"
     },
     "output_type": "display_data"
    }
   ],
   "source": [
    "import numpy as np \n",
    "import matplotlib.pyplot as plt\n",
    "  \n",
    "def estimate_coef(x, y): \n",
    "    # number of points \n",
    "    n = np.size(x) \n",
    "  \n",
    "    # mean of x and y array\n",
    "    m_x, m_y = np.mean(x), np.mean(y) \n",
    "  \n",
    "    # calculating cross-deviation and deviation about x \n",
    "    SS_xy = np.sum(y*x) - n*m_y*m_x \n",
    "    SS_xx = np.sum(x*x) - n*m_x*m_x \n",
    "  \n",
    "    # calculating regression coefficients \n",
    "    b1 = SS_xy / SS_xx \n",
    "    b0 = m_y - b1*m_x \n",
    "  \n",
    "    return(b0, b1)  \n",
    "\n",
    "\n",
    "\n",
    "def main():\n",
    "    x = [ 2, 1, 2, 3, 4, 5, 6, 7, 8, 9]\n",
    "    y = [ 1, 3, 2, 5, 7, 8, 8, 9, 10, 12]\n",
    "\n",
    "    plot_regression_line(x,y)\n",
    "\n",
    "if __name__ == \"__main__\":\n",
    "      main()\n"
   ]
  },
  {
   "cell_type": "code",
   "execution_count": null,
   "metadata": {},
   "outputs": [],
   "source": []
  }
 ],
 "metadata": {
  "kernelspec": {
   "display_name": "Python 3",
   "language": "python",
   "name": "python3"
  },
  "language_info": {
   "codemirror_mode": {
    "name": "ipython",
    "version": 3
   },
   "file_extension": ".py",
   "mimetype": "text/x-python",
   "name": "python",
   "nbconvert_exporter": "python",
   "pygments_lexer": "ipython3",
   "version": "3.7.6"
  }
 },
 "nbformat": 4,
 "nbformat_minor": 4
}
