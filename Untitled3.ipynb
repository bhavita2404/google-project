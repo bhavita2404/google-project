{
 "cells": [
  {
   "cell_type": "code",
   "execution_count": 59,
   "metadata": {},
   "outputs": [],
   "source": [
    "import gmplot"
   ]
  },
  {
   "cell_type": "code",
   "execution_count": null,
   "metadata": {},
   "outputs": [],
   "source": []
  },
  {
   "cell_type": "code",
   "execution_count": 60,
   "metadata": {},
   "outputs": [],
   "source": [
    "file = open(\"C:\\\\Users\\\\S\\\\Desktop\\\\lat_long.txt\", \"r\")\n",
    "\n",
    "lat,lon = [],[]\n",
    "count = 0\n",
    "for line in file:\n",
    "    count+=1\n",
    "    if count == 1:\n",
    "        continue;\n",
    "    lat.append(float(line.split('|')[2]))\n",
    "    lon.append(float(line.split('|')[3][:-1]))"
   ]
  },
  {
   "cell_type": "code",
   "execution_count": 55,
   "metadata": {},
   "outputs": [],
   "source": [
    "gmap1 = gmplot.GoogleMapPlotter(18.77778,73.31833, 10 ) \n",
    "gmap1.scatter(lat,lon,'white',size = 100, marker = False)\n",
    "gmap1.draw( \"C:\\\\Users\\\\S\\\\Desktop\\\\map1.html\")"
   ]
  },
  {
   "cell_type": "code",
   "execution_count": 44,
   "metadata": {},
   "outputs": [],
   "source": [
    "import gmplot \n",
    "  \n",
    "latitude_list = [ 30.3358376, 30.307977, 30.3216419 ] \n",
    "longitude_list = [ 77.8701919, 78.048457, 78.0413095 ] \n",
    "  \n",
    "gmap3 = gmplot.GoogleMapPlotter(30.3164945, \n",
    "                                78.03219179999999, 13) \n",
    "  \n",
    "# scatter method of map object  \n",
    "# scatter points on the google map \n",
    "gmap3.scatter( latitude_list, longitude_list, 'white', \n",
    "                              size = 40, marker = False ) \n",
    "  \n",
    "# Plot method Draw a line in \n",
    "# between given coordinates \n",
    "gmap3.plot(latitude_list, longitude_list,  \n",
    "           'cornflowerblue', edge_width = 2.5) \n",
    "  \n",
    "gmap3.draw( \"C:\\\\Users\\\\S\\\\Desktop\\\\map13.html\" )"
   ]
  },
  {
   "cell_type": "code",
   "execution_count": 64,
   "metadata": {},
   "outputs": [
    {
     "name": "stdout",
     "output_type": "stream",
     "text": [
      "['0', '1', '2', '3', '4', '5', '6', '7', '8', '9', '10', '11', '12', '13', '14', '15', '16', '17', '18', '19', '20', '21', '22', '23', '24', '25', '26', '27', '28', '29', '30', '31', '32', '33', '34', '35', '36', '37', '38', '39'] ['12:4', '12:5', '13:0', '13:1', '13:1', '13:2', '13:3', '13:4', '13:5', '13:5', '14:0', '14:0', '14:0', '14:1', '14:1', '14:2', '14:2', '14:2', '14:3', '14:3', '14:3', '14:3', '14:3', '14:4', '14:4', '14:4', '14:4', '14:5', '14:5', '14:5', '14:5', '14:5', '15:0', '15:0', '15:0', '15:0', '15:0', '15:0', '15:1', '15:1']\n"
     ]
    }
   ],
   "source": [
    "file = open(\"C:\\\\Users\\\\S\\\\Downloads\\\\mumbai_train_route.txt\", \"r\")\n",
    "route_lat,route_lon = [],[]\n",
    "count = 0\n",
    "for line in file:\n",
    "    count+=1\n",
    "    if count == 1:\n",
    "        continue;  \n",
    "    if line.split('|')[0] ==\"93018\":\n",
    "        route_lat.append((line.split('|')[2]))\n",
    "        route_lon.append((line.split('|')[3][:-1]))\n",
    "print(route_lat,route_lon)        "
   ]
  },
  {
   "cell_type": "code",
   "execution_count": 65,
   "metadata": {},
   "outputs": [],
   "source": [
    "import pandas as pd"
   ]
  },
  {
   "cell_type": "code",
   "execution_count": 78,
   "metadata": {},
   "outputs": [],
   "source": [
    "left_dataframe = pd.read_csv('C:\\\\Users\\\\S\\\\Downloads\\\\mumbai_train_route.txt', sep='|')\n",
    "right_dataframe = pd.read_csv('C:\\\\Users\\\\S\\\\Desktop\\\\lat_long.txt', sep='|')"
   ]
  },
  {
   "cell_type": "code",
   "execution_count": 81,
   "metadata": {},
   "outputs": [],
   "source": [
    "a =pd.merge(left_dataframe, right_dataframe, on=\"station_code\", how=\"left\")"
   ]
  },
  {
   "cell_type": "code",
   "execution_count": 82,
   "metadata": {},
   "outputs": [],
   "source": [
    "a.to_csv('C:\\\\Users\\\\S\\\\Desktop\\\\train_route_coord.txt', header=True, index=False, sep='\\t', mode='a')"
   ]
  },
  {
   "cell_type": "code",
   "execution_count": null,
   "metadata": {},
   "outputs": [],
   "source": []
  }
 ],
 "metadata": {
  "kernelspec": {
   "display_name": "Python 3",
   "language": "python",
   "name": "python3"
  },
  "language_info": {
   "codemirror_mode": {
    "name": "ipython",
    "version": 3
   },
   "file_extension": ".py",
   "mimetype": "text/x-python",
   "name": "python",
   "nbconvert_exporter": "python",
   "pygments_lexer": "ipython3",
   "version": "3.7.6"
  }
 },
 "nbformat": 4,
 "nbformat_minor": 4
}
